{
  "nbformat": 4,
  "nbformat_minor": 0,
  "metadata": {
    "colab": {
      "name": "analysis1.ipynb",
      "provenance": [],
      "collapsed_sections": []
    },
    "kernelspec": {
      "name": "python3",
      "display_name": "Python 3"
    },
    "accelerator": "GPU"
  },
  "cells": [
    {
      "cell_type": "code",
      "metadata": {
        "id": "Txcw4NrJTqP6",
        "colab": {
          "base_uri": "https://localhost:8080/"
        },
        "outputId": "2cc12d1b-a1d6-49d3-ed35-ba942e1fdd50"
      },
      "source": [
        "from google.colab import drive\r\n",
        "drive.mount('/content/drive/')"
      ],
      "execution_count": null,
      "outputs": [
        {
          "output_type": "stream",
          "text": [
            "Mounted at /content/drive/\n"
          ],
          "name": "stdout"
        }
      ]
    },
    {
      "cell_type": "code",
      "metadata": {
        "colab": {
          "base_uri": "https://localhost:8080/"
        },
        "id": "XtQCJ5-NUDDt",
        "outputId": "354af4b0-f5dc-4462-def7-49859ff4a3ba"
      },
      "source": [
        "%cd /content/drive/MyDrive/Deep_Learning/project/pytorch-deeplab-xception"
      ],
      "execution_count": null,
      "outputs": [
        {
          "output_type": "stream",
          "text": [
            "/content/drive/MyDrive/Deep_Learning/project/pytorch-deeplab-xception\n"
          ],
          "name": "stdout"
        }
      ]
    },
    {
      "cell_type": "code",
      "metadata": {
        "colab": {
          "base_uri": "https://localhost:8080/"
        },
        "id": "MIKjhmjmEDhz",
        "outputId": "a17b1cad-70dd-4a33-c1cf-170f02b3a645"
      },
      "source": [
        "!wget https://bin.equinox.io/c/4VmDzA7iaHb/ngrok-stable-linux-amd64.zip\r\n",
        "!unzip ngrok-stable-linux-amd64.zip"
      ],
      "execution_count": null,
      "outputs": [
        {
          "output_type": "stream",
          "text": [
            "--2021-01-17 02:53:03--  https://bin.equinox.io/c/4VmDzA7iaHb/ngrok-stable-linux-amd64.zip\n",
            "Resolving bin.equinox.io (bin.equinox.io)... 3.224.49.7, 54.160.18.204, 35.175.47.233, ...\n",
            "Connecting to bin.equinox.io (bin.equinox.io)|3.224.49.7|:443... connected.\n",
            "HTTP request sent, awaiting response... 200 OK\n",
            "Length: 13773305 (13M) [application/octet-stream]\n",
            "Saving to: ‘ngrok-stable-linux-amd64.zip’\n",
            "\n",
            "\r          ngrok-sta   0%[                    ]       0  --.-KB/s               \rngrok-stable-linux- 100%[===================>]  13.13M  70.1MB/s    in 0.2s    \n",
            "\n",
            "2021-01-17 02:53:03 (70.1 MB/s) - ‘ngrok-stable-linux-amd64.zip’ saved [13773305/13773305]\n",
            "\n",
            "Archive:  ngrok-stable-linux-amd64.zip\n",
            "  inflating: ngrok                   \n"
          ],
          "name": "stdout"
        }
      ]
    },
    {
      "cell_type": "code",
      "metadata": {
        "colab": {
          "base_uri": "https://localhost:8080/"
        },
        "id": "T8QDDuKpn9-b",
        "outputId": "e81cf834-8902-40d8-ee54-84f260b8063c"
      },
      "source": [
        "# %cd /content/drive/MyDrive/vin/DL/project/pytorch-deeplab-xception"
      ],
      "execution_count": null,
      "outputs": [
        {
          "output_type": "stream",
          "text": [
            "[Errno 2] No such file or directory: '/content/drive/MyDrive/vin/DL/project/pytorch-deeplab-xception'\n",
            "/usr/local/lib/python3.6/dist-packages/tensorboard\n"
          ],
          "name": "stdout"
        }
      ]
    },
    {
      "cell_type": "code",
      "metadata": {
        "id": "UEcm5iIWEEhH"
      },
      "source": [
        "LOG_DIR = '/content/drive/MyDrive/Deep_Learning/project/pytorch-deeplab-xception/run/cityscapes/deeplab-mobilenet/experiment_10'\r\n",
        "get_ipython().system_raw(\r\n",
        "    'tensorboard --logdir {} --host 0.0.0.0 --port 6006 &'\r\n",
        "    .format(LOG_DIR)\r\n",
        ")"
      ],
      "execution_count": null,
      "outputs": []
    },
    {
      "cell_type": "code",
      "metadata": {
        "id": "Isf3MKU_Ej9N"
      },
      "source": [
        "get_ipython().system_raw('./ngrok http 6006 &')"
      ],
      "execution_count": null,
      "outputs": []
    },
    {
      "cell_type": "code",
      "metadata": {
        "colab": {
          "base_uri": "https://localhost:8080/"
        },
        "id": "m16kcE8rEnfN",
        "outputId": "10b3a579-db29-4c0d-bc0c-7f2f45ad76bb"
      },
      "source": [
        "! curl -s http://localhost:4040/api/tunnels | python3 -c \\\r\n",
        "    \"import sys, json; print(json.load(sys.stdin)['tunnels'][0]['public_url'])\""
      ],
      "execution_count": null,
      "outputs": [
        {
          "output_type": "stream",
          "text": [
            "https://0f355fa26e21.ngrok.io\n"
          ],
          "name": "stdout"
        }
      ]
    },
    {
      "cell_type": "code",
      "metadata": {
        "colab": {
          "base_uri": "https://localhost:8080/"
        },
        "id": "4pF_jqOjXGUs",
        "outputId": "93a0bbaa-0e25-4666-f3a9-9d715211d01d"
      },
      "source": [
        "cd /usr/local/lib/python3.6/dist-packages/tensorboard/"
      ],
      "execution_count": null,
      "outputs": [
        {
          "output_type": "stream",
          "text": [
            "/usr/local/lib/python3.6/dist-packages/tensorboard\n"
          ],
          "name": "stdout"
        }
      ]
    },
    {
      "cell_type": "code",
      "metadata": {
        "colab": {
          "base_uri": "https://localhost:8080/"
        },
        "id": "J4ei4A3HXGYO",
        "outputId": "9a8ff369-c15a-4d96-c3ca-d82fa81374c8"
      },
      "source": [
        "!python main.py --logdir=/content/drive/MyDrive/Deep_Learning/project/pytorch-deeplab-xception/run/cityscapes/deeplab-mobilenet/experiment_10"
      ],
      "execution_count": null,
      "outputs": [
        {
          "output_type": "stream",
          "text": [
            "2021-01-17 03:03:27.694598: I tensorflow/stream_executor/platform/default/dso_loader.cc:49] Successfully opened dynamic library libcudart.so.10.1\n",
            "Serving TensorBoard on localhost; to expose to the network, use a proxy or pass --bind_all\n",
            "TensorBoard 2.4.0 at http://localhost:6006/ (Press CTRL+C to quit)\n",
            "^C\n"
          ],
          "name": "stdout"
        }
      ]
    },
    {
      "cell_type": "code",
      "metadata": {
        "colab": {
          "base_uri": "https://localhost:8080/"
        },
        "id": "FhLzjRMXYER3",
        "outputId": "f3fed47b-7116-4366-9f01-14fa9bb51c52"
      },
      "source": [
        "!tensorboard --inspect --logdir=/content/drive/MyDrive/Deep_Learning/project/pytorch-deeplab-xception/run/cityscapes/deeplab-mobilenet/experiment_10/"
      ],
      "execution_count": null,
      "outputs": [
        {
          "output_type": "stream",
          "text": [
            "2021-01-17 03:16:26.421576: I tensorflow/stream_executor/platform/default/dso_loader.cc:49] Successfully opened dynamic library libcudart.so.10.1\n",
            "======================================================================\n",
            "Processing event files... (this can take a few minutes)\n",
            "======================================================================\n",
            "\n",
            "Found event files in:\n",
            "/content/drive/MyDrive/Deep_Learning/project/pytorch-deeplab-xception/run/cityscapes/deeplab-mobilenet/experiment_10/\n",
            "\n",
            "These tags are in /content/drive/MyDrive/Deep_Learning/project/pytorch-deeplab-xception/run/cityscapes/deeplab-mobilenet/experiment_10/:\n",
            "audio -\n",
            "histograms -\n",
            "images\n",
            "   Groundtruth_label\n",
            "   Image\n",
            "   Predicted_label\n",
            "scalars\n",
            "   train/total_loss_epoch\n",
            "   train/total_loss_iter\n",
            "   val/Acc\n",
            "   val/Acc_class\n",
            "   val/fwIoU\n",
            "   val/mIoU\n",
            "   val/total_loss_epoch\n",
            "tensor -\n",
            "======================================================================\n",
            "\n",
            "Event statistics for /content/drive/MyDrive/Deep_Learning/project/pytorch-deeplab-xception/run/cityscapes/deeplab-mobilenet/experiment_10/:\n",
            "audio -\n",
            "graph -\n",
            "histograms -\n",
            "images\n",
            "   first_step           6510\n",
            "   last_step            11154\n",
            "   max_step             11154\n",
            "   min_step             6510\n",
            "   num_steps            275\n",
            "   outoforder_steps     [(6882, 6510)]\n",
            "scalars\n",
            "   first_step           6510\n",
            "   last_step            59\n",
            "   max_step             11159\n",
            "   min_step             35\n",
            "   num_steps            4675\n",
            "   outoforder_steps     [(6695, 35), (6881, 36), (6889, 6510), (6695, 35), (6881, 36), (7067, 37), (7253, 38), (7439, 39), (7625, 40), (7811, 41), (7997, 42), (8183, 43), (8369, 44), (8555, 45), (8741, 46), (8927, 47), (9113, 48), (9299, 49), (9485, 50), (9671, 51), (9857, 52), (10043, 53), (10229, 54), (10415, 55), (10601, 56), (10787, 57), (10973, 58), (11159, 59)]\n",
            "sessionlog:checkpoint -\n",
            "sessionlog:start -\n",
            "sessionlog:stop -\n",
            "tensor -\n",
            "======================================================================\n",
            "\n"
          ],
          "name": "stdout"
        }
      ]
    },
    {
      "cell_type": "code",
      "metadata": {
        "colab": {
          "base_uri": "https://localhost:8080/"
        },
        "id": "ssnIXtVJJC1X",
        "outputId": "a1a4e9d6-92c2-43a1-ed83-f63fc17e00eb"
      },
      "source": [
        "!ls /content/drive/MyDrive/Deep_Learning/project/pytorch-deeplab-xception/run/cityscapes/deeplab-mobilenet/experiment_10"
      ],
      "execution_count": null,
      "outputs": [
        {
          "output_type": "stream",
          "text": [
            "best_pred.txt\n",
            "checkpoint.pth.tar\n",
            "events.out.tfevents.1610677324.0ed27a465daf\n",
            "events.out.tfevents.1610677372.0ed27a465daf\n",
            "events.out.tfevents.1610678968.0ed27a465daf\n",
            "parameters.txt\n"
          ],
          "name": "stdout"
        }
      ]
    },
    {
      "cell_type": "code",
      "metadata": {
        "colab": {
          "base_uri": "https://localhost:8080/",
          "height": 322
        },
        "id": "5yLSs8OfTChO",
        "outputId": "e308e079-6c9e-41dc-df1d-236dc1f83ad1"
      },
      "source": [
        "import numpy as np\r\n",
        "cf_matrix = np.load('cf_matrix.npy')\r\n",
        "cf_matrix.shape"
      ],
      "execution_count": null,
      "outputs": [
        {
          "output_type": "error",
          "ename": "FileNotFoundError",
          "evalue": "ignored",
          "traceback": [
            "\u001b[0;31m---------------------------------------------------------------------------\u001b[0m",
            "\u001b[0;31mFileNotFoundError\u001b[0m                         Traceback (most recent call last)",
            "\u001b[0;32m<ipython-input-40-88494e35ab75>\u001b[0m in \u001b[0;36m<module>\u001b[0;34m()\u001b[0m\n\u001b[1;32m      1\u001b[0m \u001b[0;32mimport\u001b[0m \u001b[0mnumpy\u001b[0m \u001b[0;32mas\u001b[0m \u001b[0mnp\u001b[0m\u001b[0;34m\u001b[0m\u001b[0;34m\u001b[0m\u001b[0m\n\u001b[0;32m----> 2\u001b[0;31m \u001b[0mcf_matrix\u001b[0m \u001b[0;34m=\u001b[0m \u001b[0mnp\u001b[0m\u001b[0;34m.\u001b[0m\u001b[0mload\u001b[0m\u001b[0;34m(\u001b[0m\u001b[0;34m'cf_matrix.npy'\u001b[0m\u001b[0;34m)\u001b[0m\u001b[0;34m\u001b[0m\u001b[0;34m\u001b[0m\u001b[0m\n\u001b[0m\u001b[1;32m      3\u001b[0m \u001b[0mcf_matrix\u001b[0m\u001b[0;34m.\u001b[0m\u001b[0mshape\u001b[0m\u001b[0;34m\u001b[0m\u001b[0;34m\u001b[0m\u001b[0m\n",
            "\u001b[0;32m/usr/local/lib/python3.6/dist-packages/numpy/lib/npyio.py\u001b[0m in \u001b[0;36mload\u001b[0;34m(file, mmap_mode, allow_pickle, fix_imports, encoding)\u001b[0m\n\u001b[1;32m    414\u001b[0m             \u001b[0mown_fid\u001b[0m \u001b[0;34m=\u001b[0m \u001b[0;32mFalse\u001b[0m\u001b[0;34m\u001b[0m\u001b[0;34m\u001b[0m\u001b[0m\n\u001b[1;32m    415\u001b[0m         \u001b[0;32melse\u001b[0m\u001b[0;34m:\u001b[0m\u001b[0;34m\u001b[0m\u001b[0;34m\u001b[0m\u001b[0m\n\u001b[0;32m--> 416\u001b[0;31m             \u001b[0mfid\u001b[0m \u001b[0;34m=\u001b[0m \u001b[0mstack\u001b[0m\u001b[0;34m.\u001b[0m\u001b[0menter_context\u001b[0m\u001b[0;34m(\u001b[0m\u001b[0mopen\u001b[0m\u001b[0;34m(\u001b[0m\u001b[0mos_fspath\u001b[0m\u001b[0;34m(\u001b[0m\u001b[0mfile\u001b[0m\u001b[0;34m)\u001b[0m\u001b[0;34m,\u001b[0m \u001b[0;34m\"rb\"\u001b[0m\u001b[0;34m)\u001b[0m\u001b[0;34m)\u001b[0m\u001b[0;34m\u001b[0m\u001b[0;34m\u001b[0m\u001b[0m\n\u001b[0m\u001b[1;32m    417\u001b[0m             \u001b[0mown_fid\u001b[0m \u001b[0;34m=\u001b[0m \u001b[0;32mTrue\u001b[0m\u001b[0;34m\u001b[0m\u001b[0;34m\u001b[0m\u001b[0m\n\u001b[1;32m    418\u001b[0m \u001b[0;34m\u001b[0m\u001b[0m\n",
            "\u001b[0;31mFileNotFoundError\u001b[0m: [Errno 2] No such file or directory: 'cf_matrix.npy'"
          ]
        }
      ]
    },
    {
      "cell_type": "code",
      "metadata": {
        "colab": {
          "base_uri": "https://localhost:8080/"
        },
        "id": "dZaWEHogXiI4",
        "outputId": "d07bebfb-1a18-4d39-d9d5-b9adcd31d948"
      },
      "source": [
        "cf_matrix = np.round(cf_matrix/cf_matrix.max(), 3)\r\n",
        "cf_matrix"
      ],
      "execution_count": null,
      "outputs": [
        {
          "output_type": "execute_result",
          "data": {
            "text/plain": [
              "array([[1.   , 0.007, 0.   , 0.   , 0.   , 0.   , 0.   , 0.   , 0.   ,\n",
              "        0.   , 0.   , 0.001, 0.   , 0.002, 0.   , 0.   , 0.   , 0.   ,\n",
              "        0.   ],\n",
              "       [0.006, 0.055, 0.001, 0.   , 0.   , 0.001, 0.   , 0.   , 0.   ,\n",
              "        0.   , 0.   , 0.001, 0.   , 0.   , 0.   , 0.   , 0.   , 0.   ,\n",
              "        0.   ],\n",
              "       [0.   , 0.001, 0.422, 0.001, 0.001, 0.002, 0.   , 0.001, 0.011,\n",
              "        0.   , 0.002, 0.002, 0.   , 0.001, 0.   , 0.   , 0.   , 0.   ,\n",
              "        0.   ],\n",
              "       [0.   , 0.001, 0.002, 0.006, 0.001, 0.   , 0.   , 0.   , 0.001,\n",
              "        0.   , 0.   , 0.   , 0.   , 0.   , 0.   , 0.   , 0.   , 0.   ,\n",
              "        0.   ],\n",
              "       [0.   , 0.   , 0.001, 0.   , 0.005, 0.   , 0.   , 0.   , 0.001,\n",
              "        0.   , 0.   , 0.   , 0.   , 0.   , 0.   , 0.   , 0.   , 0.   ,\n",
              "        0.   ],\n",
              "       [0.   , 0.001, 0.007, 0.   , 0.001, 0.014, 0.   , 0.   , 0.004,\n",
              "        0.   , 0.   , 0.001, 0.   , 0.001, 0.   , 0.   , 0.   , 0.   ,\n",
              "        0.   ],\n",
              "       [0.   , 0.   , 0.001, 0.   , 0.   , 0.   , 0.002, 0.   , 0.001,\n",
              "        0.   , 0.   , 0.   , 0.   , 0.   , 0.   , 0.   , 0.   , 0.   ,\n",
              "        0.   ],\n",
              "       [0.   , 0.   , 0.003, 0.   , 0.   , 0.   , 0.   , 0.009, 0.001,\n",
              "        0.   , 0.   , 0.   , 0.   , 0.   , 0.   , 0.   , 0.   , 0.   ,\n",
              "        0.   ],\n",
              "       [0.   , 0.001, 0.009, 0.   , 0.   , 0.001, 0.   , 0.   , 0.416,\n",
              "        0.002, 0.001, 0.   , 0.   , 0.001, 0.   , 0.   , 0.   , 0.   ,\n",
              "        0.   ],\n",
              "       [0.   , 0.001, 0.   , 0.   , 0.   , 0.   , 0.   , 0.   , 0.001,\n",
              "        0.006, 0.   , 0.   , 0.   , 0.   , 0.   , 0.   , 0.   , 0.   ,\n",
              "        0.   ],\n",
              "       [0.   , 0.   , 0.001, 0.   , 0.   , 0.   , 0.   , 0.   , 0.002,\n",
              "        0.   , 0.123, 0.   , 0.   , 0.   , 0.   , 0.   , 0.   , 0.   ,\n",
              "        0.   ],\n",
              "       [0.   , 0.   , 0.002, 0.   , 0.   , 0.   , 0.   , 0.   , 0.   ,\n",
              "        0.   , 0.   , 0.028, 0.001, 0.001, 0.   , 0.   , 0.   , 0.   ,\n",
              "        0.   ],\n",
              "       [0.   , 0.   , 0.   , 0.   , 0.   , 0.   , 0.   , 0.   , 0.   ,\n",
              "        0.   , 0.   , 0.001, 0.003, 0.   , 0.   , 0.   , 0.   , 0.   ,\n",
              "        0.001],\n",
              "       [0.001, 0.   , 0.001, 0.   , 0.   , 0.   , 0.   , 0.   , 0.001,\n",
              "        0.   , 0.   , 0.001, 0.   , 0.113, 0.   , 0.   , 0.   , 0.   ,\n",
              "        0.   ],\n",
              "       [0.   , 0.   , 0.001, 0.   , 0.   , 0.   , 0.   , 0.   , 0.   ,\n",
              "        0.   , 0.   , 0.   , 0.   , 0.001, 0.005, 0.001, 0.   , 0.   ,\n",
              "        0.   ],\n",
              "       [0.   , 0.   , 0.   , 0.   , 0.   , 0.   , 0.   , 0.   , 0.   ,\n",
              "        0.   , 0.   , 0.   , 0.   , 0.001, 0.   , 0.009, 0.   , 0.   ,\n",
              "        0.   ],\n",
              "       [0.   , 0.   , 0.   , 0.   , 0.   , 0.   , 0.   , 0.   , 0.   ,\n",
              "        0.   , 0.   , 0.   , 0.   , 0.   , 0.   , 0.   , 0.002, 0.   ,\n",
              "        0.   ],\n",
              "       [0.   , 0.   , 0.   , 0.   , 0.   , 0.   , 0.   , 0.   , 0.   ,\n",
              "        0.   , 0.   , 0.   , 0.   , 0.   , 0.   , 0.   , 0.   , 0.001,\n",
              "        0.   ],\n",
              "       [0.   , 0.   , 0.001, 0.   , 0.   , 0.   , 0.   , 0.   , 0.   ,\n",
              "        0.   , 0.   , 0.001, 0.001, 0.   , 0.   , 0.   , 0.   , 0.   ,\n",
              "        0.009]])"
            ]
          },
          "metadata": {
            "tags": []
          },
          "execution_count": 134
        }
      ]
    },
    {
      "cell_type": "code",
      "metadata": {
        "colab": {
          "base_uri": "https://localhost:8080/",
          "height": 679
        },
        "id": "BMxkmRsnWh-4",
        "outputId": "cf878fc2-e808-4672-ea29-b54e1e0ad5e3"
      },
      "source": [
        "import seaborn as sn\r\n",
        "import pandas as pd\r\n",
        "import matplotlib.pyplot as plt\r\n",
        "\r\n",
        "df_cm = pd.DataFrame(cf_matrix)\r\n",
        "plt.figure(figsize = (15,15))\r\n",
        "svm = sn.heatmap(df_cm, annot=True)\r\n",
        "figure = svm.get_figure()    \r\n",
        "figure.savefig('cf_matrix.png', dpi=400)"
      ],
      "execution_count": null,
      "outputs": [
        {
          "output_type": "display_data",
          "data": {
            "image/png": "[encoded data removed]",
            "text/plain": [
              "<Figure size 1080x1080 with 2 Axes>"
            ]
          },
          "metadata": {
            "tags": [],
            "needs_background": "light"
          }
        }
      ]
    },
    {
      "cell_type": "code",
      "metadata": {
        "colab": {
          "base_uri": "https://localhost:8080/"
        },
        "id": "BznI2vWiXR5d",
        "outputId": "3fdc1648-a659-4748-cfbd-5391df8c80ad"
      },
      "source": [
        "!bash evaluate.sh"
      ],
      "execution_count": null,
      "outputs": [
        {
          "output_type": "stream",
          "text": [
            "Traceback (most recent call last):\n",
            "  File \"script.py\", line 121, in <module>\n",
            "    main()\n",
            "  File \"script.py\", line 117, in main\n",
            "    trainer = Trainer(args)\n",
            "  File \"script.py\", line 65, in __init__\n",
            "    model.load_state_dict(torch.load(args.model_path))\n",
            "  File \"/usr/local/lib/python3.6/dist-packages/torch/serialization.py\", line 594, in load\n",
            "    return _load(opened_zipfile, map_location, pickle_module, **pickle_load_args)\n",
            "  File \"/usr/local/lib/python3.6/dist-packages/torch/serialization.py\", line 853, in _load\n",
            "    result = unpickler.load()\n",
            "  File \"/usr/local/lib/python3.6/dist-packages/torch/serialization.py\", line 845, in persistent_load\n",
            "    load_tensor(data_type, size, key, _maybe_decode_ascii(location))\n",
            "  File \"/usr/local/lib/python3.6/dist-packages/torch/serialization.py\", line 834, in load_tensor\n",
            "    loaded_storages[key] = restore_location(storage, location)\n",
            "  File \"/usr/local/lib/python3.6/dist-packages/torch/serialization.py\", line 175, in default_restore_location\n",
            "    result = fn(storage, location)\n",
            "  File \"/usr/local/lib/python3.6/dist-packages/torch/serialization.py\", line 151, in _cuda_deserialize\n",
            "    device = validate_cuda_device(location)\n",
            "  File \"/usr/local/lib/python3.6/dist-packages/torch/serialization.py\", line 135, in validate_cuda_device\n",
            "    raise RuntimeError('Attempting to deserialize object on a CUDA '\n",
            "RuntimeError: Attempting to deserialize object on a CUDA device but torch.cuda.is_available() is False. If you are running on a CPU-only machine, please use torch.load with map_location=torch.device('cpu') to map your storages to the CPU.\n"
          ],
          "name": "stdout"
        }
      ]
    },
    {
      "cell_type": "code",
      "metadata": {
        "id": "Zd0A0WHYBbMD"
      },
      "source": [
        ""
      ],
      "execution_count": null,
      "outputs": []
    }
  ]
}